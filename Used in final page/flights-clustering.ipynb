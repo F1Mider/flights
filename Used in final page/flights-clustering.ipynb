{
 "cells": [
  {
   "cell_type": "code",
   "execution_count": 3,
   "metadata": {
    "colab": {},
    "colab_type": "code",
    "id": "NOQ8hTqoS6NM"
   },
   "outputs": [],
   "source": [
    "from sklearn.cluster import KMeans\n",
    "import numpy as np\n",
    "import pandas as pd\n",
    "import matplotlib.pyplot as plt"
   ]
  },
  {
   "cell_type": "markdown",
   "metadata": {
    "colab_type": "text",
    "id": "ssO4xaHTS6NP"
   },
   "source": [
    "In this session, we conducted a Kmeans-clustering(cluster=10) according to the duration and mileage of each flight and ploted the clustering results. According to the result, we are able to draw a conclusion that most of Hancong's filghts are either short flights(within 5 hours/4000 mileage) or long flights(over 10 hours/8000 mileage). He barely takes flights that is between 5-10 hours/4000-8000 mileage."
   ]
  },
  {
   "cell_type": "code",
   "execution_count": 4,
   "metadata": {
    "colab": {},
    "colab_type": "code",
    "id": "IEnq4-V7S6NQ"
   },
   "outputs": [],
   "source": [
    "df=pd.read_excel(\"flights.xlsx\")"
   ]
  },
  {
   "cell_type": "code",
   "execution_count": 5,
   "metadata": {
    "colab": {},
    "colab_type": "code",
    "id": "i0rdwQ8US6NT"
   },
   "outputs": [],
   "source": [
    "#Convert duration values in \"HOUR:MINUTE\" format to hours\n",
    "time = pd.DatetimeIndex(df['Duration'].astype(str))\n",
    "df['Duration'] = time.hour + time.minute/60"
   ]
  },
  {
   "cell_type": "code",
   "execution_count": 6,
   "metadata": {
    "colab": {},
    "colab_type": "code",
    "id": "QNrB81ZKS6NV",
    "outputId": "21c1e9e9-e34d-44a6-f54f-9cdf7395e52a"
   },
   "outputs": [
    {
     "data": {
      "text/plain": [
       "0    1.416667\n",
       "1    2.250000\n",
       "2    2.583333\n",
       "3    2.083333\n",
       "4    1.916667\n",
       "Name: Duration, dtype: float64"
      ]
     },
     "execution_count": 6,
     "metadata": {},
     "output_type": "execute_result"
    }
   ],
   "source": [
    "# Check the new duration values\n",
    "df[\"Duration\"].head()"
   ]
  },
  {
   "cell_type": "code",
   "execution_count": 7,
   "metadata": {
    "colab": {},
    "colab_type": "code",
    "id": "Pd3a5QUOS6NZ",
    "outputId": "84ca5858-aad9-49f6-deea-2401725bb411"
   },
   "outputs": [
    {
     "data": {
      "text/plain": [
       "array([[1.27976190e+01, 1.03345000e+04],\n",
       "       [2.31153846e+00, 1.26982051e+03],\n",
       "       [5.26333333e+00, 3.57760000e+03],\n",
       "       [1.23214286e+00, 3.88642857e+02],\n",
       "       [9.00000000e+00, 6.44500000e+03],\n",
       "       [1.11777778e+01, 9.08833333e+03],\n",
       "       [1.39772727e+01, 1.14093636e+04],\n",
       "       [3.05769231e+00, 1.78026923e+03],\n",
       "       [1.84574468e+00, 8.55765957e+02],\n",
       "       [4.18947368e+00, 2.79189474e+03]])"
      ]
     },
     "execution_count": 7,
     "metadata": {},
     "output_type": "execute_result"
    }
   ],
   "source": [
    "#Kmeans Clustering\n",
    "DishCluster = np.array(df[['Duration','Mileage']])\n",
    "clf=KMeans(n_clusters=10)\n",
    "# 10 clusters\n",
    "clf=clf.fit(DishCluster)\n",
    "clf.cluster_centers_\n",
    "# Check the \"center\" of each cluster"
   ]
  },
  {
   "cell_type": "code",
   "execution_count": 8,
   "metadata": {
    "colab": {},
    "colab_type": "code",
    "id": "6d0EdoBIS6Nc",
    "outputId": "60f06c38-0c55-4e47-fecc-07371794c1ec"
   },
   "outputs": [
    {
     "data": {
      "text/html": [
       "<div>\n",
       "<style scoped>\n",
       "    .dataframe tbody tr th:only-of-type {\n",
       "        vertical-align: middle;\n",
       "    }\n",
       "\n",
       "    .dataframe tbody tr th {\n",
       "        vertical-align: top;\n",
       "    }\n",
       "\n",
       "    .dataframe thead th {\n",
       "        text-align: right;\n",
       "    }\n",
       "</style>\n",
       "<table border=\"1\" class=\"dataframe\">\n",
       "  <thead>\n",
       "    <tr style=\"text-align: right;\">\n",
       "      <th></th>\n",
       "      <th>Date</th>\n",
       "      <th>Flight No</th>\n",
       "      <th>Actual</th>\n",
       "      <th>Airline</th>\n",
       "      <th>Domestic/Int</th>\n",
       "      <th>Alliance</th>\n",
       "      <th>Country/Region</th>\n",
       "      <th>Departure City</th>\n",
       "      <th>Departure Airport</th>\n",
       "      <th>Depart Code</th>\n",
       "      <th>...</th>\n",
       "      <th>Tax</th>\n",
       "      <th>Manufacturer</th>\n",
       "      <th>Aircraft</th>\n",
       "      <th>Aircraft Code</th>\n",
       "      <th>Reg No</th>\n",
       "      <th>Meal</th>\n",
       "      <th>Bag</th>\n",
       "      <th>Seq</th>\n",
       "      <th>FFP</th>\n",
       "      <th>label</th>\n",
       "    </tr>\n",
       "  </thead>\n",
       "  <tbody>\n",
       "    <tr>\n",
       "      <th>0</th>\n",
       "      <td>2008.6.28</td>\n",
       "      <td>MU5664</td>\n",
       "      <td>MU5664</td>\n",
       "      <td>China Eastern Airlines</td>\n",
       "      <td>D</td>\n",
       "      <td>ST</td>\n",
       "      <td>China</td>\n",
       "      <td>Xiamen</td>\n",
       "      <td>Xiamen Gaoqi Int'l</td>\n",
       "      <td>XMN</td>\n",
       "      <td>...</td>\n",
       "      <td>NaN</td>\n",
       "      <td>Boeing</td>\n",
       "      <td>MD-90-30</td>\n",
       "      <td>MD90</td>\n",
       "      <td>NaN</td>\n",
       "      <td>1</td>\n",
       "      <td>NaN</td>\n",
       "      <td>NaN</td>\n",
       "      <td>NaN</td>\n",
       "      <td>8</td>\n",
       "    </tr>\n",
       "    <tr>\n",
       "      <th>1</th>\n",
       "      <td>2009.8.21</td>\n",
       "      <td>9C8839</td>\n",
       "      <td>9C8839</td>\n",
       "      <td>Spring Airlines</td>\n",
       "      <td>D</td>\n",
       "      <td>NaN</td>\n",
       "      <td>China</td>\n",
       "      <td>Shanghai</td>\n",
       "      <td>Shanghai Pudong Int'l</td>\n",
       "      <td>PVG</td>\n",
       "      <td>...</td>\n",
       "      <td>NaN</td>\n",
       "      <td>Airbus</td>\n",
       "      <td>A320-214</td>\n",
       "      <td>A320</td>\n",
       "      <td>NaN</td>\n",
       "      <td>0</td>\n",
       "      <td>NaN</td>\n",
       "      <td>NaN</td>\n",
       "      <td>NaN</td>\n",
       "      <td>1</td>\n",
       "    </tr>\n",
       "    <tr>\n",
       "      <th>2</th>\n",
       "      <td>2009.8.28</td>\n",
       "      <td>9C8810</td>\n",
       "      <td>9C8810</td>\n",
       "      <td>Spring Airlines</td>\n",
       "      <td>D</td>\n",
       "      <td>NaN</td>\n",
       "      <td>China</td>\n",
       "      <td>Changchun</td>\n",
       "      <td>Changchun Longjia Int'l</td>\n",
       "      <td>CGQ</td>\n",
       "      <td>...</td>\n",
       "      <td>NaN</td>\n",
       "      <td>Airbus</td>\n",
       "      <td>A320-214</td>\n",
       "      <td>A320</td>\n",
       "      <td>NaN</td>\n",
       "      <td>0</td>\n",
       "      <td>NaN</td>\n",
       "      <td>NaN</td>\n",
       "      <td>NaN</td>\n",
       "      <td>7</td>\n",
       "    </tr>\n",
       "    <tr>\n",
       "      <th>3</th>\n",
       "      <td>2010.2.2</td>\n",
       "      <td>MU515</td>\n",
       "      <td>MU515</td>\n",
       "      <td>China Eastern Airlines</td>\n",
       "      <td>I</td>\n",
       "      <td>ST</td>\n",
       "      <td>China</td>\n",
       "      <td>Shanghai</td>\n",
       "      <td>Shanghai Pudong Int'l</td>\n",
       "      <td>PVG</td>\n",
       "      <td>...</td>\n",
       "      <td>NaN</td>\n",
       "      <td>Airbus</td>\n",
       "      <td>A300B4-605R</td>\n",
       "      <td>A306</td>\n",
       "      <td>NaN</td>\n",
       "      <td>1</td>\n",
       "      <td>NaN</td>\n",
       "      <td>NaN</td>\n",
       "      <td>NaN</td>\n",
       "      <td>1</td>\n",
       "    </tr>\n",
       "    <tr>\n",
       "      <th>4</th>\n",
       "      <td>2010.2.6</td>\n",
       "      <td>MU518</td>\n",
       "      <td>MU518</td>\n",
       "      <td>China Eastern Airlines</td>\n",
       "      <td>I</td>\n",
       "      <td>ST</td>\n",
       "      <td>China</td>\n",
       "      <td>Fukuoka</td>\n",
       "      <td>Fukuoka Int'l</td>\n",
       "      <td>FUK</td>\n",
       "      <td>...</td>\n",
       "      <td>NaN</td>\n",
       "      <td>Boeing</td>\n",
       "      <td>737-89PWL</td>\n",
       "      <td>B738</td>\n",
       "      <td>B-5472</td>\n",
       "      <td>1</td>\n",
       "      <td>NaN</td>\n",
       "      <td>NaN</td>\n",
       "      <td>NaN</td>\n",
       "      <td>8</td>\n",
       "    </tr>\n",
       "  </tbody>\n",
       "</table>\n",
       "<p>5 rows × 41 columns</p>\n",
       "</div>"
      ],
      "text/plain": [
       "        Date Flight No  Actual                 Airline Domestic/Int Alliance  \\\n",
       "0  2008.6.28    MU5664  MU5664  China Eastern Airlines            D       ST   \n",
       "1  2009.8.21    9C8839  9C8839         Spring Airlines            D      NaN   \n",
       "2  2009.8.28    9C8810  9C8810         Spring Airlines            D      NaN   \n",
       "3   2010.2.2     MU515   MU515  China Eastern Airlines            I       ST   \n",
       "4   2010.2.6     MU518   MU518  China Eastern Airlines            I       ST   \n",
       "\n",
       "  Country/Region Departure City        Departure Airport Depart Code  ...   \\\n",
       "0          China         Xiamen       Xiamen Gaoqi Int'l         XMN  ...    \n",
       "1          China       Shanghai    Shanghai Pudong Int'l         PVG  ...    \n",
       "2          China      Changchun  Changchun Longjia Int'l         CGQ  ...    \n",
       "3          China       Shanghai    Shanghai Pudong Int'l         PVG  ...    \n",
       "4          China        Fukuoka            Fukuoka Int'l         FUK  ...    \n",
       "\n",
       "  Tax Manufacturer     Aircraft Aircraft Code  Reg No Meal Bag  Seq  FFP label  \n",
       "0 NaN       Boeing     MD-90-30          MD90     NaN    1 NaN  NaN  NaN     8  \n",
       "1 NaN       Airbus     A320-214          A320     NaN    0 NaN  NaN  NaN     1  \n",
       "2 NaN       Airbus     A320-214          A320     NaN    0 NaN  NaN  NaN     7  \n",
       "3 NaN       Airbus  A300B4-605R          A306     NaN    1 NaN  NaN  NaN     1  \n",
       "4 NaN       Boeing    737-89PWL          B738  B-5472    1 NaN  NaN  NaN     8  \n",
       "\n",
       "[5 rows x 41 columns]"
      ]
     },
     "execution_count": 8,
     "metadata": {},
     "output_type": "execute_result"
    }
   ],
   "source": [
    "# Add clustering labels to each row\n",
    "df['label']=clf.labels_\n",
    "df.head()"
   ]
  },
  {
   "cell_type": "code",
   "execution_count": 9,
   "metadata": {
    "colab": {},
    "colab_type": "code",
    "id": "14wAWLl6S6Nf",
    "outputId": "d1223e62-8a64-42d8-c736-a61a8a4bce21"
   },
   "outputs": [
    {
     "data": {
      "text/plain": [
       "(0.8333333333333334, 15.083333333333334, 150, 11977)"
      ]
     },
     "execution_count": 9,
     "metadata": {},
     "output_type": "execute_result"
    }
   ],
   "source": [
    "#Find the range of X and Y\n",
    "#plt.xlabel('Duration')\n",
    "#plt.ylabel('Mileage')\n",
    "a=df[\"Duration\"].min()\n",
    "b=df[\"Duration\"].max()\n",
    "c=df[\"Mileage\"].min()\n",
    "d=df[\"Mileage\"].max()\n",
    "a,b,c,d"
   ]
  },
  {
   "cell_type": "code",
   "execution_count": 18,
   "metadata": {
    "colab": {},
    "colab_type": "code",
    "id": "jeI7af9PS6Ni",
    "outputId": "224e5b5f-8e4a-49af-ec13-474395f05c1d"
   },
   "outputs": [
    {
     "name": "stderr",
     "output_type": "stream",
     "text": [
      "/opt/conda/lib/python3.6/site-packages/ipykernel/__main__.py:31: MatplotlibDeprecationWarning: The colors function was deprecated in version 2.1.\n"
     ]
    },
    {
     "data": {
      "image/png": "[encoded data removed]",
      "text/plain": [
       "<Figure size 720x432 with 1 Axes>"
      ]
     },
     "metadata": {
      "needs_background": "light"
     },
     "output_type": "display_data"
    }
   ],
   "source": [
    "# Visualize the distribution\n",
    "g1=df.loc[df[\"label\"] == 0]\n",
    "g2=df.loc[df[\"label\"] == 1]\n",
    "g3=df.loc[df[\"label\"] == 2]\n",
    "g4=df.loc[df[\"label\"] == 3]\n",
    "g5=df.loc[df[\"label\"] == 4]\n",
    "g6=df.loc[df[\"label\"] == 5]\n",
    "g7=df.loc[df[\"label\"] == 6]\n",
    "g8=df.loc[df[\"label\"] == 7]\n",
    "g9=df.loc[df[\"label\"] == 8]\n",
    "g10=df.loc[df[\"label\"] == 9]\n",
    "#scatter plot of the clusterig outcome\n",
    "plt.figure(figsize=(10,6))\n",
    "plt.rc('font', family='STXihei', size=20)\n",
    "plt.scatter(g1['Duration'],g1['Mileage'],50,color='#99CC01',marker='+',linewidth=2,alpha=0.8)\n",
    "plt.scatter(g2['Duration'],g2['Mileage'],50,color='#FE0000',marker='+',linewidth=2,alpha=0.8)\n",
    "plt.scatter(g3['Duration'],g3['Mileage'],50,color='#0000FF',marker='+',linewidth=2,alpha=0.8)\n",
    "plt.scatter(g4['Duration'],g4['Mileage'],50,color='#00aaff',marker='+',linewidth=2,alpha=0.8)\n",
    "plt.scatter(g5['Duration'],g5['Mileage'],50,color='#ffbd83',marker='+',linewidth=2,alpha=0.8)\n",
    "plt.scatter(g6['Duration'],g6['Mileage'],50,color='#660000',marker='+',linewidth=2,alpha=0.8)\n",
    "plt.scatter(g7['Duration'],g7['Mileage'],50,color='#8391ff',marker='+',linewidth=2,alpha=0.8)\n",
    "plt.scatter(g8['Duration'],g8['Mileage'],50,color='#200020',marker='+',linewidth=2,alpha=0.8)\n",
    "plt.scatter(g9['Duration'],g9['Mileage'],50,color='#ff8390',marker='+',linewidth=2,alpha=0.8)\n",
    "plt.scatter(g10['Duration'],g10['Mileage'],50,color='#3c7800',marker='+',linewidth=2,alpha=0.8)\n",
    "plt.xlabel('Duration')\n",
    "plt.ylabel('Mileage')\n",
    "plt.ylim(150,11977)\n",
    "plt.xlim(0.8,15.1)\n",
    "plt.title(\"Relationship between Mileage and Duration of flights\")\n",
    "plt.grid(color='#95a5a6',linestyle='--', linewidth=1,axis='both',alpha=0.4)\n",
    "plt.colors()\n",
    "plt.show()"
   ]
  },
  {
   "cell_type": "code",
   "execution_count": null,
   "metadata": {
    "colab": {},
    "colab_type": "code",
    "id": "tJE1Xrs5S6Nn"
   },
   "outputs": [],
   "source": []
  }
 ],
 "metadata": {
  "colab": {
   "collapsed_sections": [],
   "name": "flights-clustering.ipynb",
   "provenance": [],
   "version": "0.3.2"
  },
  "kernelspec": {
   "display_name": "Environment (conda_conda)",
   "language": "python",
   "name": "conda_conda"
  },
  "language_info": {
   "codemirror_mode": {
    "name": "ipython",
    "version": 3
   },
   "file_extension": ".py",
   "mimetype": "text/x-python",
   "name": "python",
   "nbconvert_exporter": "python",
   "pygments_lexer": "ipython3",
   "version": "3.6.6"
  }
 },
 "nbformat": 4,
 "nbformat_minor": 1
}
